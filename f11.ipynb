{
 "cells": [
  {
   "cell_type": "code",
   "execution_count": 3,
   "id": "0b46ad98",
   "metadata": {},
   "outputs": [
    {
     "name": "stdout",
     "output_type": "stream",
     "text": [
      "True\n"
     ]
    }
   ],
   "source": [
    "name=\"abc\"\n",
    "print(False if name!=\"abc\" else True) "
   ]
  },
  {
   "cell_type": "code",
   "execution_count": 9,
   "id": "9af0276c",
   "metadata": {},
   "outputs": [
    {
     "name": "stdout",
     "output_type": "stream",
     "text": [
      "ia\n",
      "ibarak\n"
     ]
    }
   ],
   "source": [
    "str1=\"karabi\"\n",
    "str2=\"\"\n",
    "print(str1[-1] + str1[3])\n",
    "for i in str1:\n",
    "    str2 = i+str2\n",
    "print(str2)"
   ]
  },
  {
   "cell_type": "code",
   "execution_count": null,
   "id": "4465708c",
   "metadata": {},
   "outputs": [],
   "source": []
  },
  {
   "cell_type": "code",
   "execution_count": 26,
   "id": "0ad6a6ae",
   "metadata": {},
   "outputs": [
    {
     "name": "stdout",
     "output_type": "stream",
     "text": [
      "fff 1\n",
      "b return value is  1\n"
     ]
    }
   ],
   "source": [
    "def a():\n",
    "    try:\n",
    "        a = 1\n",
    "        print(\"fff\", a)\n",
    "        return a\n",
    "        print(\"fff\", a, 1/0)\n",
    "    except:\n",
    "        print(\"k\")\n",
    "    \n",
    "\n",
    "# b = a()\n",
    "print(\"b return value is \", a())"
   ]
  }
 ],
 "metadata": {
  "kernelspec": {
   "display_name": "Python 3",
   "language": "python",
   "name": "python3"
  },
  "language_info": {
   "codemirror_mode": {
    "name": "ipython",
    "version": 3
   },
   "file_extension": ".py",
   "mimetype": "text/x-python",
   "name": "python",
   "nbconvert_exporter": "python",
   "pygments_lexer": "ipython3",
   "version": "3.10.5"
  }
 },
 "nbformat": 4,
 "nbformat_minor": 5
}
