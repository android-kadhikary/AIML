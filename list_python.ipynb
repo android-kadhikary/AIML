{
 "cells": [
  {
   "cell_type": "code",
   "execution_count": 24,
   "id": "3d535b77",
   "metadata": {},
   "outputs": [
    {
     "name": "stdout",
     "output_type": "stream",
     "text": [
      "[['love', 'respect', 'divine', 'karabi', 'peace', 'third eye', 'back side clearity'], ['love', 'respect', 'divine', 'karabi', 'peace', 'third eye', 'back side clearity'], [2, 5, 'good', True]]\n",
      "[2, 5, 'good', True, 'love', 'respect', 'divine', 'karabi', 'peace', 'third eye', 'back side clearity']\n",
      "[2, 5, 'good', True, 'love', 'respect', 'divine', 'karabi', 'peace', 'third eye', 'back side clearity', 'love', 'respect', 'divine', 'karabi', 'peace', 'third eye', 'back side clearity']\n"
     ]
    }
   ],
   "source": [
    "list1=[2,5,\"good\",True]\n",
    "list2=[\"love\",\"respect\",\"divine\",\"karabi\",\"peace\",\"third eye\",\"back side clearity\"]\n",
    "list3=[list2, list2, list1]\n",
    "list4=list1+list2\n",
    "list5= list1+list2+list2\n",
    "print(list3)\n",
    "print(list4)\n",
    "print(list5)"
   ]
  },
  {
   "cell_type": "markdown",
   "id": "779f13ff",
   "metadata": {
    "tags": [
     "parameters"
    ]
   },
   "source": [
    "Slicing"
   ]
  },
  {
   "cell_type": "code",
   "execution_count": 3,
   "id": "4a067320",
   "metadata": {},
   "outputs": [
    {
     "name": "stdout",
     "output_type": "stream",
     "text": [
      "['love', 'respect']\n",
      "['love', 'respect', 'divine', 'karabi']\n",
      "['respect', 'divine', 'karabi', 'peace', 'third eye', 'back side clearity']\n",
      "['love', 'respect', 'divine', 'karabi', 'peace', 'third eye', 'back side clearity']\n"
     ]
    }
   ],
   "source": [
    "print(list2[:2])\n",
    "print(list2[0:4])\n",
    "print(list2[1:])\n",
    "print(list2[:])"
   ]
  },
  {
   "cell_type": "markdown",
   "id": "6d9e29f4",
   "metadata": {},
   "source": [
    "Length"
   ]
  },
  {
   "cell_type": "code",
   "execution_count": 4,
   "id": "6c4859a0",
   "metadata": {},
   "outputs": [
    {
     "name": "stdout",
     "output_type": "stream",
     "text": [
      "7\n"
     ]
    }
   ],
   "source": [
    "lenth_of_list=len(list2)\n",
    "print(lenth_of_list)"
   ]
  },
  {
   "cell_type": "markdown",
   "id": "59906f7c",
   "metadata": {},
   "source": [
    "Find the element if it's availabel in the list with \"in\" oparetor"
   ]
  },
  {
   "cell_type": "code",
   "execution_count": 10,
   "id": "73acac05",
   "metadata": {},
   "outputs": [
    {
     "name": "stdout",
     "output_type": "stream",
     "text": [
      "True\n",
      "False\n",
      "False\n",
      "True\n",
      "False\n",
      "True\n",
      "True\n"
     ]
    }
   ],
   "source": [
    "print (\"karabi\" in list2)\n",
    "print(\"k\" in list2)\n",
    "print(\"karabi\" not in list2)\n",
    "print(\"k\" not in list2)\n",
    "print(list2 in list5)\n",
    "print(\"love\" in list5)\n",
    "print(list2 in list3)"
   ]
  },
  {
   "cell_type": "markdown",
   "id": "399b3ca0",
   "metadata": {},
   "source": [
    "Count"
   ]
  },
  {
   "cell_type": "code",
   "execution_count": 13,
   "id": "120c05b7",
   "metadata": {},
   "outputs": [
    {
     "name": "stdout",
     "output_type": "stream",
     "text": [
      "0\n",
      "2\n",
      "2\n"
     ]
    }
   ],
   "source": [
    "print(list3.count(\"love\"))\n",
    "print(list3.count(list2))\n",
    "print(list5.count(\"love\"))"
   ]
  },
  {
   "cell_type": "markdown",
   "id": "c1879826",
   "metadata": {},
   "source": [
    "Addition items to the list"
   ]
  },
  {
   "cell_type": "code",
   "execution_count": 20,
   "id": "0cc4704b",
   "metadata": {},
   "outputs": [
    {
     "name": "stdout",
     "output_type": "stream",
     "text": [
      "['list1']\n",
      "[1111, [2, 5, 'good', True]]\n"
     ]
    }
   ],
   "source": [
    "list10=[]\n",
    "list10.append(\"list1\")\n",
    "list11=[1111]\n",
    "list11.append(list1)\n",
    "\n",
    "print(list10)\n",
    "print(list11)"
   ]
  },
  {
   "cell_type": "code",
   "execution_count": 25,
   "id": "e9253ac8",
   "metadata": {},
   "outputs": [
    {
     "name": "stdout",
     "output_type": "stream",
     "text": [
      "[2, 5, 'good', True, 'love', 'respect', 'divine', 'karabi', 'peace', 'third eye', 'back side clearity', 'love', 'respect', 'divine', 'karabi', 'peace', 'third eye', 'back side clearity']\n",
      "2\n",
      "1\n",
      "[2, 5, 'good', True, 'love', 'respect', 'divine', 'karabi', 'peace', 'third eye', 'back side clearity', 'love', 'respect', 'divine', 'karabi', 'peace', 'third eye']\n"
     ]
    }
   ],
   "source": [
    "print(list5)\n",
    "print(list5.count(\"back side clearity\"))\n",
    "list5.pop()\n",
    "print(list5.count(\"back side clearity\"))\n",
    "print(list5)"
   ]
  },
  {
   "cell_type": "markdown",
   "id": "b20a636a",
   "metadata": {},
   "source": [
    "min, max, sun of integer list"
   ]
  },
  {
   "cell_type": "code",
   "execution_count": 27,
   "id": "199b4b65",
   "metadata": {},
   "outputs": [
    {
     "name": "stdout",
     "output_type": "stream",
     "text": [
      "0\n",
      "5\n",
      "11\n"
     ]
    }
   ],
   "source": [
    "l1=[1,2,3,5,0]\n",
    "print(min(l1))\n",
    "print(max(l1))\n",
    "print(sum(l1))"
   ]
  },
  {
   "cell_type": "code",
   "execution_count": 29,
   "id": "6e0a7e10",
   "metadata": {},
   "outputs": [
    {
     "name": "stdout",
     "output_type": "stream",
     "text": [
      "<tuple_iterator object at 0x000001C3E3736E30>\n",
      "1\n"
     ]
    }
   ],
   "source": [
    "num=(1,2,3,4,0)\n",
    "nums=iter(num)\n",
    "print(nums)\n",
    "print(next(nums))\n"
   ]
  },
  {
   "cell_type": "markdown",
   "id": "c762c69e",
   "metadata": {},
   "source": [
    "generator expration"
   ]
  },
  {
   "cell_type": "code",
   "execution_count": null,
   "id": "ccee0250",
   "metadata": {},
   "outputs": [
    {
     "name": "stdout",
     "output_type": "stream",
     "text": [
      "[0, 1, 4, 9, 16]\n",
      "0\n",
      "1\n",
      "4\n",
      "9\n",
      "16\n"
     ]
    }
   ],
   "source": [
    "tup= [x*x for x in range(5)] #tuple\n",
    "print(tup)\n",
    "for val in tup:\n",
    "    print(val)\n",
    "\n",
    "gen= ( x*x for x in range(5)) #genetaror\n",
    "print(gen)\n",
    "for val in gen:\n",
    "    print(val)"
   ]
  },
  {
   "cell_type": "markdown",
   "id": "7fadb5a8",
   "metadata": {},
   "source": [
    "generator function"
   ]
  },
  {
   "cell_type": "code",
   "execution_count": null,
   "id": "aa257d84",
   "metadata": {},
   "outputs": [],
   "source": []
  }
 ],
 "metadata": {
  "kernelspec": {
   "display_name": "Python 3",
   "language": "python",
   "name": "python3"
  },
  "language_info": {
   "codemirror_mode": {
    "name": "ipython",
    "version": 3
   },
   "file_extension": ".py",
   "mimetype": "text/x-python",
   "name": "python",
   "nbconvert_exporter": "python",
   "pygments_lexer": "ipython3",
   "version": "3.10.5"
  }
 },
 "nbformat": 4,
 "nbformat_minor": 5
}
